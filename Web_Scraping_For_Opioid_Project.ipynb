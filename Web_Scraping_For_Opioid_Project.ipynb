{
 "cells": [
  {
   "cell_type": "code",
   "execution_count": 1,
   "id": "39ae74d8",
   "metadata": {},
   "outputs": [],
   "source": [
    "#Import required packages\n",
    "import requests\n",
    "from bs4 import BeautifulSoup"
   ]
  },
  {
   "cell_type": "code",
   "execution_count": 2,
   "id": "341f1136",
   "metadata": {},
   "outputs": [],
   "source": [
    "#load version information\n",
    "%load_ext version_information"
   ]
  },
  {
   "cell_type": "code",
   "execution_count": 3,
   "id": "93bb6a8a",
   "metadata": {},
   "outputs": [
    {
     "data": {
      "application/json": {
       "Software versions": [
        {
         "module": "Python",
         "version": "3.8.8 64bit [MSC v.1916 64 bit (AMD64)]"
        },
        {
         "module": "IPython",
         "version": "7.22.0"
        },
        {
         "module": "OS",
         "version": "Windows 10 10.0.22000 SP0"
        },
        {
         "module": "bs4",
         "version": "4.9.3"
        },
        {
         "module": "requests",
         "version": "2.25.1"
        }
       ]
      },
      "text/html": [
       "<table><tr><th>Software</th><th>Version</th></tr><tr><td>Python</td><td>3.8.8 64bit [MSC v.1916 64 bit (AMD64)]</td></tr><tr><td>IPython</td><td>7.22.0</td></tr><tr><td>OS</td><td>Windows 10 10.0.22000 SP0</td></tr><tr><td>bs4</td><td>4.9.3</td></tr><tr><td>requests</td><td>2.25.1</td></tr><tr><td colspan='2'>Wed Jan 26 21:40:10 2022 Eastern Standard Time</td></tr></table>"
      ],
      "text/latex": [
       "\\begin{tabular}{|l|l|}\\hline\n",
       "{\\bf Software} & {\\bf Version} \\\\ \\hline\\hline\n",
       "Python & 3.8.8 64bit [MSC v.1916 64 bit (AMD64)] \\\\ \\hline\n",
       "IPython & 7.22.0 \\\\ \\hline\n",
       "OS & Windows 10 10.0.22000 SP0 \\\\ \\hline\n",
       "bs4 & 4.9.3 \\\\ \\hline\n",
       "requests & 2.25.1 \\\\ \\hline\n",
       "\\hline \\multicolumn{2}{|l|}{Wed Jan 26 21:40:10 2022 Eastern Standard Time} \\\\ \\hline\n",
       "\\end{tabular}\n"
      ],
      "text/plain": [
       "Software versions\n",
       "Python 3.8.8 64bit [MSC v.1916 64 bit (AMD64)]\n",
       "IPython 7.22.0\n",
       "OS Windows 10 10.0.22000 SP0\n",
       "bs4 4.9.3\n",
       "requests 2.25.1\n",
       "Wed Jan 26 21:40:10 2022 Eastern Standard Time"
      ]
     },
     "execution_count": 3,
     "metadata": {},
     "output_type": "execute_result"
    }
   ],
   "source": [
    "#Version for Pandas and numpy\n",
    "#Pandas (1.2.4), numpy (1.20.1), matplotlib (3.3.4), requests (2.25.1), json (2.0.9) were used for this assignment\n",
    "%version_information bs4, requests"
   ]
  },
  {
   "cell_type": "code",
   "execution_count": 4,
   "id": "54230ae7",
   "metadata": {},
   "outputs": [],
   "source": [
    "URL = \"https://www.cdc.gov/drugoverdose/rxrate-maps/county2006.html\"\n",
    "#page = requests.get(URL)\n",
    "#soup = BeautifulSoup(page.content, \"html.parser\")"
   ]
  },
  {
   "cell_type": "code",
   "execution_count": 5,
   "id": "a178dff5",
   "metadata": {},
   "outputs": [],
   "source": [
    "#results = soup.find(id=\"ResultsContainer\")"
   ]
  },
  {
   "cell_type": "code",
   "execution_count": 6,
   "id": "7a682afd",
   "metadata": {},
   "outputs": [],
   "source": [
    "def extract(year):\n",
    "    url = f'https://www.cdc.gov/drugoverdose/rxrate-maps/county{year}.html'\n",
    "    print(url)\n",
    "    r = requests.get(url)\n",
    "    #return r.status_code\n",
    "    soup = BeautifulSoup(r.content, 'html.parser')\n",
    "    return soup\n",
    "\n",
    "def transform(soup):\n",
    "    divs = soup.find_all('table')\n",
    "    for item in divs:\n",
    "        title = item.find('tr').text\n",
    "        print(title)\n",
    "    return "
   ]
  },
  {
   "cell_type": "code",
   "execution_count": null,
   "id": "1d462a69",
   "metadata": {},
   "outputs": [
    {
     "name": "stdout",
     "output_type": "stream",
     "text": [
      "https://www.cdc.gov/drugoverdose/rxrate-maps/county2010.html\n"
     ]
    }
   ],
   "source": [
    "yr_2010 = extract(2010)\n",
    "#transform(yr_2010)"
   ]
  }
 ],
 "metadata": {
  "kernelspec": {
   "display_name": "Python 3",
   "language": "python",
   "name": "python3"
  },
  "language_info": {
   "codemirror_mode": {
    "name": "ipython",
    "version": 3
   },
   "file_extension": ".py",
   "mimetype": "text/x-python",
   "name": "python",
   "nbconvert_exporter": "python",
   "pygments_lexer": "ipython3",
   "version": "3.8.8"
  }
 },
 "nbformat": 4,
 "nbformat_minor": 5
}
