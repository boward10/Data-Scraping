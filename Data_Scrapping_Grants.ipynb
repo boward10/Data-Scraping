{
 "cells": [
  {
   "cell_type": "code",
   "execution_count": 13,
   "id": "c77c57cb",
   "metadata": {},
   "outputs": [],
   "source": [
    "import numpy as np\n",
    "import pandas as pd\n",
    "import matplotlib.pyplot as plt\n",
    "import requests\n",
    "import json\n",
    "import ipywidgets as widgets\n",
    "import webbrowser\n",
    "import selenium\n",
    "from ipywidgets import interact, Dropdown\n",
    "from IPython.display import display\n",
    "from sklearn import metrics\n",
    "from sklearn.model_selection import train_test_split\n",
    "from scipy.stats import linregress\n",
    "from sklearn.linear_model import LinearRegression\n",
    "from sklearn.metrics import confusion_matrix, accuracy_score\n",
    "from selenium import webdriver"
   ]
  },
  {
   "cell_type": "code",
   "execution_count": 14,
   "id": "dc913063",
   "metadata": {},
   "outputs": [],
   "source": [
    "URL1 = 'https://www.grants.gov/web/grants/search-grants.html'"
   ]
  },
  {
   "cell_type": "code",
   "execution_count": 6,
   "id": "204e441f",
   "metadata": {},
   "outputs": [
    {
     "data": {
      "text/plain": [
       "True"
      ]
     },
     "execution_count": 6,
     "metadata": {},
     "output_type": "execute_result"
    }
   ],
   "source": [
    "#Go to grants.gov\n",
    "#webbrowser.open(URL1, new = 1)"
   ]
  },
  {
   "cell_type": "code",
   "execution_count": 7,
   "id": "55c8f974",
   "metadata": {},
   "outputs": [
    {
     "name": "stdout",
     "output_type": "stream",
     "text": [
      "Collecting selenium\n",
      "  Downloading selenium-4.1.0-py3-none-any.whl (958 kB)\n",
      "Requirement already satisfied: urllib3[secure]~=1.26 in f:\\anaconda3\\lib\\site-packages (from selenium) (1.26.4)\n",
      "Collecting trio-websocket~=0.9\n",
      "  Downloading trio_websocket-0.9.2-py3-none-any.whl (16 kB)\n",
      "Collecting trio~=0.17\n",
      "  Downloading trio-0.19.0-py3-none-any.whl (356 kB)\n",
      "Collecting outcome\n",
      "  Downloading outcome-1.1.0-py2.py3-none-any.whl (9.7 kB)\n",
      "Requirement already satisfied: idna in f:\\anaconda3\\lib\\site-packages (from trio~=0.17->selenium) (2.10)\n",
      "Requirement already satisfied: sortedcontainers in f:\\anaconda3\\lib\\site-packages (from trio~=0.17->selenium) (2.3.0)\n",
      "Requirement already satisfied: async-generator>=1.9 in f:\\anaconda3\\lib\\site-packages (from trio~=0.17->selenium) (1.10)\n",
      "Requirement already satisfied: cffi>=1.14 in f:\\anaconda3\\lib\\site-packages (from trio~=0.17->selenium) (1.14.5)\n",
      "Requirement already satisfied: attrs>=19.2.0 in f:\\anaconda3\\lib\\site-packages (from trio~=0.17->selenium) (20.3.0)\n",
      "Requirement already satisfied: sniffio in f:\\anaconda3\\lib\\site-packages (from trio~=0.17->selenium) (1.2.0)\n",
      "Requirement already satisfied: pycparser in f:\\anaconda3\\lib\\site-packages (from cffi>=1.14->trio~=0.17->selenium) (2.20)\n",
      "Collecting wsproto>=0.14\n",
      "  Downloading wsproto-1.0.0-py3-none-any.whl (24 kB)\n",
      "Requirement already satisfied: cryptography>=1.3.4 in f:\\anaconda3\\lib\\site-packages (from urllib3[secure]~=1.26->selenium) (3.4.7)\n",
      "Requirement already satisfied: certifi in f:\\anaconda3\\lib\\site-packages (from urllib3[secure]~=1.26->selenium) (2020.12.5)\n",
      "Requirement already satisfied: pyOpenSSL>=0.14 in f:\\anaconda3\\lib\\site-packages (from urllib3[secure]~=1.26->selenium) (20.0.1)\n",
      "Requirement already satisfied: six>=1.5.2 in f:\\anaconda3\\lib\\site-packages (from pyOpenSSL>=0.14->urllib3[secure]~=1.26->selenium) (1.15.0)\n",
      "Collecting h11<1,>=0.9.0\n",
      "  Downloading h11-0.13.0-py3-none-any.whl (58 kB)\n",
      "Installing collected packages: outcome, h11, wsproto, trio, trio-websocket, selenium\n",
      "Successfully installed h11-0.13.0 outcome-1.1.0 selenium-4.1.0 trio-0.19.0 trio-websocket-0.9.2 wsproto-1.0.0\n",
      "Note: you may need to restart the kernel to use updated packages.\n"
     ]
    }
   ],
   "source": [
    "#install selenium\n",
    "#pip install selenium"
   ]
  },
  {
   "cell_type": "code",
   "execution_count": 15,
   "id": "00389f98",
   "metadata": {},
   "outputs": [],
   "source": [
    "from selenium import webdriver\n",
    "\n",
    "driver = webdriver.Chrome()\n",
    "driver.get(URL1)\n",
    "#driver.findElement"
   ]
  },
  {
   "cell_type": "code",
   "execution_count": 12,
   "id": "bc5244b0",
   "metadata": {},
   "outputs": [
    {
     "ename": "InvalidArgumentException",
     "evalue": "Message: invalid argument: invalid locator\n  (Session info: chrome=97.0.4692.99)\nStacktrace:\nBacktrace:\n\tOrdinal0 [0x00DAFDC3+2555331]\n\tOrdinal0 [0x00D477F1+2127857]\n\tOrdinal0 [0x00C42E08+1060360]\n\tOrdinal0 [0x00C6E61A+1238554]\n\tOrdinal0 [0x00C6E69B+1238683]\n\tOrdinal0 [0x00C99252+1413714]\n\tOrdinal0 [0x00C87B54+1342292]\n\tOrdinal0 [0x00C975FA+1406458]\n\tOrdinal0 [0x00C87976+1341814]\n\tOrdinal0 [0x00C636B6+1193654]\n\tOrdinal0 [0x00C64546+1197382]\n\tGetHandleVerifier [0x00F49622+1619522]\n\tGetHandleVerifier [0x00FF882C+2336844]\n\tGetHandleVerifier [0x00E423E1+541697]\n\tGetHandleVerifier [0x00E41443+537699]\n\tOrdinal0 [0x00D4D18E+2150798]\n\tOrdinal0 [0x00D51518+2168088]\n\tOrdinal0 [0x00D51660+2168416]\n\tOrdinal0 [0x00D5B330+2208560]\n\tBaseThreadInitThunk [0x75C16739+25]\n\tRtlGetFullPathName_UEx [0x77BB8AFF+1215]\n\tRtlGetFullPathName_UEx [0x77BB8ACD+1165]\n",
     "output_type": "error",
     "traceback": [
      "\u001b[1;31m---------------------------------------------------------------------------\u001b[0m",
      "\u001b[1;31mInvalidArgumentException\u001b[0m                  Traceback (most recent call last)",
      "\u001b[1;32m<ipython-input-12-70f92d425873>\u001b[0m in \u001b[0;36m<module>\u001b[1;34m\u001b[0m\n\u001b[0;32m      1\u001b[0m \u001b[1;31m#driver.find_element(\"Export detailed data\").click()\u001b[0m\u001b[1;33m\u001b[0m\u001b[1;33m\u001b[0m\u001b[1;33m\u001b[0m\u001b[0m\n\u001b[0;32m      2\u001b[0m \u001b[1;32mfrom\u001b[0m \u001b[0mselenium\u001b[0m\u001b[1;33m.\u001b[0m\u001b[0mwebdriver\u001b[0m\u001b[1;33m.\u001b[0m\u001b[0mcommon\u001b[0m\u001b[1;33m.\u001b[0m\u001b[0mby\u001b[0m \u001b[1;32mimport\u001b[0m \u001b[0mBy\u001b[0m\u001b[1;33m\u001b[0m\u001b[1;33m\u001b[0m\u001b[0m\n\u001b[1;32m----> 3\u001b[1;33m \u001b[0ml\u001b[0m\u001b[1;33m=\u001b[0m\u001b[0mdriver\u001b[0m\u001b[1;33m.\u001b[0m\u001b[0mfind_element\u001b[0m\u001b[1;33m(\u001b[0m\u001b[1;34m\"/html/body/table[1]/tbody/tr/td[3]/table[2]/tbody/tr[1]/td/a[2]\"\u001b[0m\u001b[1;33m)\u001b[0m\u001b[1;33m\u001b[0m\u001b[1;33m\u001b[0m\u001b[0m\n\u001b[0m",
      "\u001b[1;32mF:\\anaconda3\\lib\\site-packages\\selenium\\webdriver\\remote\\webdriver.py\u001b[0m in \u001b[0;36mfind_element\u001b[1;34m(self, by, value)\u001b[0m\n\u001b[0;32m   1242\u001b[0m             \u001b[0mvalue\u001b[0m \u001b[1;33m=\u001b[0m \u001b[1;34m'[name=\"%s\"]'\u001b[0m \u001b[1;33m%\u001b[0m \u001b[0mvalue\u001b[0m\u001b[1;33m\u001b[0m\u001b[1;33m\u001b[0m\u001b[0m\n\u001b[0;32m   1243\u001b[0m \u001b[1;33m\u001b[0m\u001b[0m\n\u001b[1;32m-> 1244\u001b[1;33m         return self.execute(Command.FIND_ELEMENT, {\n\u001b[0m\u001b[0;32m   1245\u001b[0m             \u001b[1;34m'using'\u001b[0m\u001b[1;33m:\u001b[0m \u001b[0mby\u001b[0m\u001b[1;33m,\u001b[0m\u001b[1;33m\u001b[0m\u001b[1;33m\u001b[0m\u001b[0m\n\u001b[0;32m   1246\u001b[0m             'value': value})['value']\n",
      "\u001b[1;32mF:\\anaconda3\\lib\\site-packages\\selenium\\webdriver\\remote\\webdriver.py\u001b[0m in \u001b[0;36mexecute\u001b[1;34m(self, driver_command, params)\u001b[0m\n\u001b[0;32m    422\u001b[0m         \u001b[0mresponse\u001b[0m \u001b[1;33m=\u001b[0m \u001b[0mself\u001b[0m\u001b[1;33m.\u001b[0m\u001b[0mcommand_executor\u001b[0m\u001b[1;33m.\u001b[0m\u001b[0mexecute\u001b[0m\u001b[1;33m(\u001b[0m\u001b[0mdriver_command\u001b[0m\u001b[1;33m,\u001b[0m \u001b[0mparams\u001b[0m\u001b[1;33m)\u001b[0m\u001b[1;33m\u001b[0m\u001b[1;33m\u001b[0m\u001b[0m\n\u001b[0;32m    423\u001b[0m         \u001b[1;32mif\u001b[0m \u001b[0mresponse\u001b[0m\u001b[1;33m:\u001b[0m\u001b[1;33m\u001b[0m\u001b[1;33m\u001b[0m\u001b[0m\n\u001b[1;32m--> 424\u001b[1;33m             \u001b[0mself\u001b[0m\u001b[1;33m.\u001b[0m\u001b[0merror_handler\u001b[0m\u001b[1;33m.\u001b[0m\u001b[0mcheck_response\u001b[0m\u001b[1;33m(\u001b[0m\u001b[0mresponse\u001b[0m\u001b[1;33m)\u001b[0m\u001b[1;33m\u001b[0m\u001b[1;33m\u001b[0m\u001b[0m\n\u001b[0m\u001b[0;32m    425\u001b[0m             response['value'] = self._unwrap_value(\n\u001b[0;32m    426\u001b[0m                 response.get('value', None))\n",
      "\u001b[1;32mF:\\anaconda3\\lib\\site-packages\\selenium\\webdriver\\remote\\errorhandler.py\u001b[0m in \u001b[0;36mcheck_response\u001b[1;34m(self, response)\u001b[0m\n\u001b[0;32m    245\u001b[0m                 \u001b[0malert_text\u001b[0m \u001b[1;33m=\u001b[0m \u001b[0mvalue\u001b[0m\u001b[1;33m[\u001b[0m\u001b[1;34m'alert'\u001b[0m\u001b[1;33m]\u001b[0m\u001b[1;33m.\u001b[0m\u001b[0mget\u001b[0m\u001b[1;33m(\u001b[0m\u001b[1;34m'text'\u001b[0m\u001b[1;33m)\u001b[0m\u001b[1;33m\u001b[0m\u001b[1;33m\u001b[0m\u001b[0m\n\u001b[0;32m    246\u001b[0m             \u001b[1;32mraise\u001b[0m \u001b[0mexception_class\u001b[0m\u001b[1;33m(\u001b[0m\u001b[0mmessage\u001b[0m\u001b[1;33m,\u001b[0m \u001b[0mscreen\u001b[0m\u001b[1;33m,\u001b[0m \u001b[0mstacktrace\u001b[0m\u001b[1;33m,\u001b[0m \u001b[0malert_text\u001b[0m\u001b[1;33m)\u001b[0m  \u001b[1;31m# type: ignore[call-arg]  # mypy is not smart enough here\u001b[0m\u001b[1;33m\u001b[0m\u001b[1;33m\u001b[0m\u001b[0m\n\u001b[1;32m--> 247\u001b[1;33m         \u001b[1;32mraise\u001b[0m \u001b[0mexception_class\u001b[0m\u001b[1;33m(\u001b[0m\u001b[0mmessage\u001b[0m\u001b[1;33m,\u001b[0m \u001b[0mscreen\u001b[0m\u001b[1;33m,\u001b[0m \u001b[0mstacktrace\u001b[0m\u001b[1;33m)\u001b[0m\u001b[1;33m\u001b[0m\u001b[1;33m\u001b[0m\u001b[0m\n\u001b[0m\u001b[0;32m    248\u001b[0m \u001b[1;33m\u001b[0m\u001b[0m\n\u001b[0;32m    249\u001b[0m     \u001b[1;32mdef\u001b[0m \u001b[0m_value_or_default\u001b[0m\u001b[1;33m(\u001b[0m\u001b[0mself\u001b[0m\u001b[1;33m,\u001b[0m \u001b[0mobj\u001b[0m\u001b[1;33m:\u001b[0m \u001b[0mMapping\u001b[0m\u001b[1;33m[\u001b[0m\u001b[0m_KT\u001b[0m\u001b[1;33m,\u001b[0m \u001b[0m_VT\u001b[0m\u001b[1;33m]\u001b[0m\u001b[1;33m,\u001b[0m \u001b[0mkey\u001b[0m\u001b[1;33m:\u001b[0m \u001b[0m_KT\u001b[0m\u001b[1;33m,\u001b[0m \u001b[0mdefault\u001b[0m\u001b[1;33m:\u001b[0m \u001b[0m_VT\u001b[0m\u001b[1;33m)\u001b[0m \u001b[1;33m->\u001b[0m \u001b[0m_VT\u001b[0m\u001b[1;33m:\u001b[0m\u001b[1;33m\u001b[0m\u001b[1;33m\u001b[0m\u001b[0m\n",
      "\u001b[1;31mInvalidArgumentException\u001b[0m: Message: invalid argument: invalid locator\n  (Session info: chrome=97.0.4692.99)\nStacktrace:\nBacktrace:\n\tOrdinal0 [0x00DAFDC3+2555331]\n\tOrdinal0 [0x00D477F1+2127857]\n\tOrdinal0 [0x00C42E08+1060360]\n\tOrdinal0 [0x00C6E61A+1238554]\n\tOrdinal0 [0x00C6E69B+1238683]\n\tOrdinal0 [0x00C99252+1413714]\n\tOrdinal0 [0x00C87B54+1342292]\n\tOrdinal0 [0x00C975FA+1406458]\n\tOrdinal0 [0x00C87976+1341814]\n\tOrdinal0 [0x00C636B6+1193654]\n\tOrdinal0 [0x00C64546+1197382]\n\tGetHandleVerifier [0x00F49622+1619522]\n\tGetHandleVerifier [0x00FF882C+2336844]\n\tGetHandleVerifier [0x00E423E1+541697]\n\tGetHandleVerifier [0x00E41443+537699]\n\tOrdinal0 [0x00D4D18E+2150798]\n\tOrdinal0 [0x00D51518+2168088]\n\tOrdinal0 [0x00D51660+2168416]\n\tOrdinal0 [0x00D5B330+2208560]\n\tBaseThreadInitThunk [0x75C16739+25]\n\tRtlGetFullPathName_UEx [0x77BB8AFF+1215]\n\tRtlGetFullPathName_UEx [0x77BB8ACD+1165]\n"
     ]
    }
   ],
   "source": [
    "#driver.find_element(\"Export detailed data\").click()\n",
    "from selenium.webdriver.common.by import By\n",
    "l=driver.find_element(\"/html/body/table[1]/tbody/tr/td[3]/table[2]/tbody/tr[1]/td/a[2]\")\n"
   ]
  },
  {
   "cell_type": "code",
   "execution_count": null,
   "id": "1f68aac6",
   "metadata": {},
   "outputs": [],
   "source": [
    "\n",
    "l.click()"
   ]
  },
  {
   "cell_type": "code",
   "execution_count": 13,
   "id": "232c1c96",
   "metadata": {
    "scrolled": true
   },
   "outputs": [
    {
     "ename": "NameError",
     "evalue": "name 'driver' is not defined",
     "output_type": "error",
     "traceback": [
      "\u001b[1;31m---------------------------------------------------------------------------\u001b[0m",
      "\u001b[1;31mNameError\u001b[0m                                 Traceback (most recent call last)",
      "\u001b[1;32m<ipython-input-13-054135c58421>\u001b[0m in \u001b[0;36m<module>\u001b[1;34m\u001b[0m\n\u001b[1;32m----> 1\u001b[1;33m \u001b[0mdriver\u001b[0m\u001b[1;33m.\u001b[0m\u001b[0mget\u001b[0m\u001b[1;33m(\u001b[0m\u001b[1;34m\"https://selenium.dev\"\u001b[0m\u001b[1;33m)\u001b[0m\u001b[1;33m\u001b[0m\u001b[1;33m\u001b[0m\u001b[0m\n\u001b[0m",
      "\u001b[1;31mNameError\u001b[0m: name 'driver' is not defined"
     ]
    }
   ],
   "source": [
    "#<a title=\"Click to export detailed data\" href=\"javascript:exportResults();\">Export Detailed Data</a>"
   ]
  },
  {
   "cell_type": "code",
   "execution_count": null,
   "id": "172b4dfb",
   "metadata": {},
   "outputs": [],
   "source": [
    "#/html/body/table[1]/tbody/tr/td[3]/table[2]/tbody/tr[1]/td/a[2]\n",
    "#/html/body/table[1]/tbody/tr/td[3]/table[2]/tbody/tr[1]/td/a[2]"
   ]
  },
  {
   "cell_type": "code",
   "execution_count": null,
   "id": "3df14877",
   "metadata": {},
   "outputs": [],
   "source": [
    "#python_button = driver.find_elements_by_xpath(\"//input[@name='lang' and @value='Python']\")[0]\n",
    "#python_button.click()"
   ]
  },
  {
   "cell_type": "code",
   "execution_count": null,
   "id": "987ab058",
   "metadata": {},
   "outputs": [],
   "source": [
    "# getting the button by class name\n",
    "#button = driver.find_element_by_class_name(\"slide-out-btn\")\n",
    "#document.querySelector(\"body > table:nth-child(2) > tbody > tr > td:nth-child(3) > table:nth-child(3) > tbody > tr:nth-child(1) > td > a:nth-child(2)\")\n",
    "# clicking on the button\n",
    "#button.click()"
   ]
  },
  {
   "cell_type": "code",
   "execution_count": null,
   "id": "065a6cdd",
   "metadata": {},
   "outputs": [],
   "source": [
    "#<div id='a'>\n",
    " # <div>\n",
    "  #  <a class='click'>abc</a>\n",
    "  #</div>\n",
    "#</div>\n",
    "#driver.find_element_by_xpath(\"//div[@id='a']//a[@class='click']\")\n",
    "#body > table:nth-child(2) > tbody > tr > td:nth-child(3) > table:nth-child(3) > tbody > tr:nth-child(1) > td > a:nth-child(2)"
   ]
  }
 ],
 "metadata": {
  "kernelspec": {
   "display_name": "Python 3",
   "language": "python",
   "name": "python3"
  },
  "language_info": {
   "codemirror_mode": {
    "name": "ipython",
    "version": 3
   },
   "file_extension": ".py",
   "mimetype": "text/x-python",
   "name": "python",
   "nbconvert_exporter": "python",
   "pygments_lexer": "ipython3",
   "version": "3.8.8"
  }
 },
 "nbformat": 4,
 "nbformat_minor": 5
}
